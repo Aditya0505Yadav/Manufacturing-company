{
 "cells": [
  {
   "cell_type": "code",
   "execution_count": 3,
   "id": "552840c3",
   "metadata": {},
   "outputs": [
    {
     "data": {
      "text/plain": [
       "Database(MongoClient(host=['localhost:27017'], document_class=dict, tz_aware=False, connect=True), 'Manuf')"
      ]
     },
     "execution_count": 3,
     "metadata": {},
     "output_type": "execute_result"
    }
   ],
   "source": [
    "from pymongo import MongoClient\n",
    "\n",
    "client = MongoClient('mongodb://localhost:27017/')  # Update the connection string with your MongoDB URI\n",
    "\n",
    "# Access the database\n",
    "db = client[\"Manuf\"]\n",
    "db\n",
    "# Access the 'customer' collection\n"
   ]
  },
  {
   "cell_type": "code",
   "execution_count": null,
   "id": "18e9bee8",
   "metadata": {},
   "outputs": [],
   "source": []
  },
  {
   "cell_type": "markdown",
   "id": "4825f5b2",
   "metadata": {},
   "source": [
    "### MANUF"
   ]
  },
  {
   "cell_type": "code",
   "execution_count": null,
   "id": "d6e6b11e",
   "metadata": {},
   "outputs": [],
   "source": []
  },
  {
   "cell_type": "markdown",
   "id": "a8ad27fc",
   "metadata": {},
   "source": [
    "### 1) Retrieve deliveries made to a specific customer for a particular product type:\n"
   ]
  },
  {
   "cell_type": "code",
   "execution_count": 2,
   "id": "21bc1954",
   "metadata": {},
   "outputs": [
    {
     "data": {
      "text/plain": [
       "<pymongo.cursor.Cursor at 0x20965945430>"
      ]
     },
     "execution_count": 2,
     "metadata": {},
     "output_type": "execute_result"
    }
   ],
   "source": [
    "db.delivery.find({ 'd_customerID': 78, 'd_productID': 104 })"
   ]
  },
  {
   "cell_type": "code",
   "execution_count": 2,
   "id": "d25476d9",
   "metadata": {},
   "outputs": [
    {
     "name": "stdout",
     "output_type": "stream",
     "text": [
      "{'_id': ObjectId('656d482e5309ba5004c3c38c'), 'd_productID': 104, 'd_supplierID': 49, 'd_customerID': 78}\n"
     ]
    }
   ],
   "source": [
    "collection = db['delivery']\n",
    "pipeline = [\n",
    "    {\n",
    "        '$match': {\n",
    "            'd_customerID': 78,\n",
    "            'd_productID': 104\n",
    "        }\n",
    "    }\n",
    "]\n",
    "\n",
    "result = collection.aggregate(pipeline)\n",
    "\n",
    "for document in result:\n",
    "    print(document)"
   ]
  },
  {
   "cell_type": "code",
   "execution_count": null,
   "id": "8ecf299e",
   "metadata": {},
   "outputs": [],
   "source": []
  },
  {
   "cell_type": "markdown",
   "id": "9498293c",
   "metadata": {},
   "source": [
    "### 2) Retreive details of customer with 'customerContact': 7483472021 \n"
   ]
  },
  {
   "cell_type": "code",
   "execution_count": 36,
   "id": "cfe15b7b",
   "metadata": {},
   "outputs": [
    {
     "data": {
      "text/plain": [
       "<pymongo.cursor.Cursor at 0x1469891f160>"
      ]
     },
     "execution_count": 36,
     "metadata": {},
     "output_type": "execute_result"
    }
   ],
   "source": [
    "db.customer.find({'customerContact': 7483472021 })"
   ]
  },
  {
   "cell_type": "code",
   "execution_count": 4,
   "id": "fcc4075e",
   "metadata": {},
   "outputs": [
    {
     "name": "stdout",
     "output_type": "stream",
     "text": [
      "[{'_id': ObjectId('656d481d5309ba5004c3c328'), 'customerID': 2, 'customerName': 'Francisco Smith', 'customerAddress': '13266 Valerie Summit Apt. 055, North Karentown, NH 32458', 'customerContact': 7483472021}]\n"
     ]
    }
   ],
   "source": [
    "collection = db['customer']  \n",
    "\n",
    "pipeline = [\n",
    "    {\"$match\": {\"customerContact\": 7483472021}},\n",
    "    {\"$limit\": 1}\n",
    "]\n",
    "\n",
    "result = list(collection.aggregate(pipeline))\n",
    "print(result)"
   ]
  },
  {
   "cell_type": "code",
   "execution_count": null,
   "id": "0fd37aa2",
   "metadata": {},
   "outputs": [],
   "source": []
  },
  {
   "cell_type": "markdown",
   "id": "d3b024a7",
   "metadata": {},
   "source": [
    "### 3) Calculate the count of deliveries made to each customer.\n"
   ]
  },
  {
   "cell_type": "code",
   "execution_count": 23,
   "id": "0c33bc9d",
   "metadata": {},
   "outputs": [
    {
     "data": {
      "text/plain": [
       "<pymongo.command_cursor.CommandCursor at 0x1469891f880>"
      ]
     },
     "execution_count": 23,
     "metadata": {},
     "output_type": "execute_result"
    }
   ],
   "source": [
    "db.product.aggregate([\n",
    "  {\n",
    "    '$group': {\n",
    "      '_id': \"$p_manufacturingID\",\n",
    "      'totalProducts': { '$sum': 1 }\n",
    "    }\n",
    "  }\n",
    "])"
   ]
  },
  {
   "cell_type": "code",
   "execution_count": 11,
   "id": "f0863386",
   "metadata": {},
   "outputs": [],
   "source": [
    "collection = db['delivery']  \n",
    "\n",
    "pipeline = [\n",
    "    {\n",
    "        '$group': {\n",
    "            '_id': \"$d_customerID\",\n",
    "            'delivery_count': { '$sum': 1 }\n",
    "        }\n",
    "    }\n",
    "]\n",
    "\n",
    "result = list(collection.aggregate(pipeline))\n"
   ]
  },
  {
   "cell_type": "code",
   "execution_count": null,
   "id": "08fc78ac",
   "metadata": {},
   "outputs": [],
   "source": []
  },
  {
   "cell_type": "markdown",
   "id": "a7c8e325",
   "metadata": {},
   "source": [
    "### 4)  insert into  customer table"
   ]
  },
  {
   "cell_type": "markdown",
   "id": "ec9c9db6",
   "metadata": {},
   "source": [
    "db.customer.insertOne({\n",
    "    customerID: 1,\n",
    "    customerName: 'John Doe',\n",
    "    customerAddress: '123 Main St',\n",
    "    customerContact: 1234567890\n",
    "});"
   ]
  },
  {
   "cell_type": "code",
   "execution_count": 17,
   "id": "98051583",
   "metadata": {
    "scrolled": true
   },
   "outputs": [
    {
     "name": "stdout",
     "output_type": "stream",
     "text": [
      "UpdateResult({'n': 1, 'nModified': 0, 'ok': 1.0, 'updatedExisting': True}, acknowledged=True)\n"
     ]
    }
   ],
   "source": [
    "collection = db['customer']  \n",
    "\n",
    "filter_query = {'customerID': 123}\n",
    "update_query = {\n",
    "    '$set': {\n",
    "        'customerID': 123,\n",
    "        'customerName': \"John Doe\",\n",
    "        'customerAddress': \"123 Main St\",\n",
    "        'customerContact': 1234567890\n",
    "    }\n",
    "}\n",
    "options = {'upsert': True}\n",
    "\n",
    "result = collection.update_one(filter_query, update_query, upsert=True)\n",
    "print(result)"
   ]
  },
  {
   "cell_type": "code",
   "execution_count": 19,
   "id": "881651c4",
   "metadata": {},
   "outputs": [],
   "source": [
    "collection = db['customer']  # Replace 'customer' with your collection name\n",
    "\n",
    "# Define the pipeline for the update\n",
    "pipeline = [\n",
    "    {\n",
    "        '$match': {\n",
    "            'customerID': 123\n",
    "        }\n",
    "    },\n",
    "    {\n",
    "        '$set': {\n",
    "            'customerName': \"John Doe\",\n",
    "            'customerAddress': \"123 Main St\",\n",
    "            'customerContact': 1234567890\n",
    "        }\n",
    "    },\n",
    "    {\n",
    "        '$merge': {\n",
    "            'into': 'customer',\n",
    "            'whenMatched': 'merge',\n",
    "            'whenNotMatched': 'insert'\n",
    "        }\n",
    "    }\n",
    "]\n",
    "\n",
    "result = collection.aggregate(pipeline)\n",
    "for doc in result:\n",
    "    print(doc)\n"
   ]
  },
  {
   "cell_type": "code",
   "execution_count": null,
   "id": "62be906c",
   "metadata": {},
   "outputs": [],
   "source": []
  },
  {
   "cell_type": "code",
   "execution_count": null,
   "id": "78084d19",
   "metadata": {},
   "outputs": [],
   "source": []
  },
  {
   "cell_type": "code",
   "execution_count": null,
   "id": "d67a66f4",
   "metadata": {},
   "outputs": [],
   "source": []
  },
  {
   "cell_type": "code",
   "execution_count": null,
   "id": "523493ce",
   "metadata": {},
   "outputs": [],
   "source": []
  }
 ],
 "metadata": {
  "kernelspec": {
   "display_name": "Python 3 (ipykernel)",
   "language": "python",
   "name": "python3"
  },
  "language_info": {
   "codemirror_mode": {
    "name": "ipython",
    "version": 3
   },
   "file_extension": ".py",
   "mimetype": "text/x-python",
   "name": "python",
   "nbconvert_exporter": "python",
   "pygments_lexer": "ipython3",
   "version": "3.9.13"
  }
 },
 "nbformat": 4,
 "nbformat_minor": 5
}
